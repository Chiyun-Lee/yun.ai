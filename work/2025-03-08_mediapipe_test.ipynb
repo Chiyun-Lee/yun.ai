{
 "cells": [
  {
   "cell_type": "code",
   "execution_count": 7,
   "metadata": {},
   "outputs": [
    {
     "name": "stdout",
     "output_type": "stream",
     "text": [
      "       frame  landmark_idx         x         y         z  visibility\n",
      "0          0             0  0.392972  0.287764 -0.326286    0.999803\n",
      "1          0             1  0.395835  0.271543 -0.317401    0.999002\n",
      "2          0             2  0.397460  0.270271 -0.317429    0.999003\n",
      "3          0             3  0.399255  0.268972 -0.317506    0.998881\n",
      "4          0             4  0.390587  0.271117 -0.319403    0.998921\n",
      "...      ...           ...       ...       ...       ...         ...\n",
      "25999    787            28  0.467406  1.147776  0.011501    0.784446\n",
      "26000    787            29  0.342795  1.121633  0.160955    0.724378\n",
      "26001    787            30  0.454737  1.181530  0.014894    0.801034\n",
      "26002    787            31  0.382906  1.126658  0.088427    0.555586\n",
      "26003    787            32  0.509656  1.198538 -0.076506    0.664685\n",
      "\n",
      "[26004 rows x 6 columns]\n"
     ]
    }
   ],
   "source": [
    "import cv2\n",
    "import mediapipe as mp\n",
    "import pandas as pd\n",
    "from IPython.display import display, clear_output, Image\n",
    "\n",
    "mp_holistic = mp.solutions.holistic\n",
    "mp_drawing = mp.solutions.drawing_utils\n",
    "\n",
    "cap = cv2.VideoCapture(\"../data/yulia_sochi_free.mp4\")\n",
    "\n",
    "# Create an empty list to store the landmarks data\n",
    "landmarks_data = []\n",
    "\n",
    "try:\n",
    "    with mp_holistic.Holistic(min_detection_confidence=0.1, min_tracking_confidence=0.1) as holistic:\n",
    "        while cap.isOpened():\n",
    "            ret, frame = cap.read()\n",
    "\n",
    "            if not ret:\n",
    "                break\n",
    "\n",
    "            frame_rgb = cv2.cvtColor(frame, cv2.COLOR_BGR2RGB)\n",
    "\n",
    "            results = holistic.process(frame_rgb)\n",
    "\n",
    "            if results.pose_landmarks:\n",
    "                mp_drawing.draw_landmarks(frame, results.pose_landmarks, mp_holistic.POSE_CONNECTIONS)\n",
    "\n",
    "                # Extract landmark coordinates (x, y, z for each keypoint)\n",
    "                landmarks = results.pose_landmarks.landmark\n",
    "                frame_landmarks = []\n",
    "                for landmark in landmarks:\n",
    "                    frame_landmarks.append({\n",
    "                        'x': landmark.x,\n",
    "                        'y': landmark.y,\n",
    "                        'z': landmark.z,\n",
    "                        'visibility': landmark.visibility\n",
    "                    })\n",
    "\n",
    "                # Append the frame's landmarks data to the list\n",
    "                landmarks_data.append(frame_landmarks)\n",
    "\n",
    "            # Encode and display the frame\n",
    "            _, img = cv2.imencode('.png', frame)\n",
    "            display(Image(data=img.tobytes()))\n",
    "            clear_output(wait=True)\n",
    "finally:\n",
    "    cap.release()\n",
    "\n",
    "# After processing the video, convert the landmarks data to a DataFrame\n",
    "# Flatten the list of frames to make it suitable for a DataFrame\n",
    "flat_landmarks_data = []\n",
    "for frame_idx, frame_landmarks in enumerate(landmarks_data):\n",
    "    for idx, landmark in enumerate(frame_landmarks):\n",
    "        flat_landmarks_data.append({\n",
    "            'frame': frame_idx,\n",
    "            'landmark_idx': idx,\n",
    "            'x': landmark['x'],\n",
    "            'y': landmark['y'],\n",
    "            'z': landmark['z'],\n",
    "            'visibility': landmark['visibility']\n",
    "        })\n",
    "\n",
    "# Create the dataframe\n",
    "df = pd.DataFrame(flat_landmarks_data)\n",
    "\n",
    "# Display the dataframe\n",
    "print(df)"
   ]
  },
  {
   "cell_type": "code",
   "execution_count": 9,
   "metadata": {},
   "outputs": [],
   "source": [
    "df.to_pickle(\"../data/raw_coordinates.pkl.xz\")"
   ]
  },
  {
   "cell_type": "code",
   "execution_count": 1,
   "metadata": {},
   "outputs": [],
   "source": [
    "import pandas as pd\n",
    "\n",
    "df = pd.read_pickle(\"../data/raw_coordinates.pkl.xz\")"
   ]
  },
  {
   "cell_type": "code",
   "execution_count": 2,
   "metadata": {},
   "outputs": [],
   "source": [
    "l = []\n",
    "\n",
    "for landmark_index in df.landmark_idx.unique():\n",
    "    subset_df = df.loc[df.landmark_idx == landmark_index]\n",
    "\n"
   ]
  },
  {
   "cell_type": "code",
   "execution_count": null,
   "metadata": {},
   "outputs": [],
   "source": []
  }
 ],
 "metadata": {
  "kernelspec": {
   "display_name": ".venv",
   "language": "python",
   "name": "python3"
  },
  "language_info": {
   "codemirror_mode": {
    "name": "ipython",
    "version": 3
   },
   "file_extension": ".py",
   "mimetype": "text/x-python",
   "name": "python",
   "nbconvert_exporter": "python",
   "pygments_lexer": "ipython3",
   "version": "3.11.4"
  }
 },
 "nbformat": 4,
 "nbformat_minor": 2
}
