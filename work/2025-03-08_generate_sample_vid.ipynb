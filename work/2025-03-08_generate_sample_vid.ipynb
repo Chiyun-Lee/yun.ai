{
 "cells": [
  {
   "cell_type": "code",
   "execution_count": 1,
   "metadata": {},
   "outputs": [],
   "source": [
    "import subprocess\n",
    "import ffmpeg\n",
    "\n",
    "def download_youtube_segment(url, start_time, end_time, output_file):\n",
    "    \"\"\"\n",
    "    Downloads a segment of a YouTube video using yt-dlp.\n",
    "\n",
    "    :param url: str, YouTube video URL\n",
    "    :param start_time: str, Start time in HH:MM:SS or seconds\n",
    "    :param end_time: str, End time in HH:MM:SS or seconds\n",
    "    :param output_file: str, Output filename (e.g., 'output.mp4')\n",
    "    \"\"\"\n",
    "    \n",
    "    print(\"Starting...\")\n",
    "\n",
    "    command = [\n",
    "        \"yt-dlp\",\n",
    "        \"--download-sections\", f\"*{start_time}-{end_time}\",\n",
    "        \"-o\", output_file,\n",
    "        url\n",
    "    ]\n",
    "    \n",
    "    subprocess.run(command, check=True)\n",
    "\n",
    "    print(\"Finished.\")\n",
    "\n",
    "download_youtube_segment(\n",
    "    url = \"https://www.youtube.com/watch?v=ke0iusvydl8&t=337s&ab_channel=Olympics\",\n",
    "    start_time       = \"00:01:30\",\n",
    "    end_time         = \"00:02:00\",\n",
    "    output_file      = \"data/yulia_sochi_free.mp4\"\n",
    ")"
   ]
  },
  {
   "cell_type": "code",
   "execution_count": null,
   "metadata": {},
   "outputs": [],
   "source": []
  }
 ],
 "metadata": {
  "kernelspec": {
   "display_name": ".venv",
   "language": "python",
   "name": "python3"
  },
  "language_info": {
   "codemirror_mode": {
    "name": "ipython",
    "version": 3
   },
   "file_extension": ".py",
   "mimetype": "text/x-python",
   "name": "python",
   "nbconvert_exporter": "python",
   "pygments_lexer": "ipython3",
   "version": "3.11.4"
  }
 },
 "nbformat": 4,
 "nbformat_minor": 2
}
